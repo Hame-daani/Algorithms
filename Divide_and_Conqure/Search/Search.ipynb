{
 "cells": [
  {
   "cell_type": "code",
   "execution_count": 39,
   "metadata": {},
   "outputs": [],
   "source": [
    "import matplotlib.pyplot as plt"
   ]
  },
  {
   "cell_type": "code",
   "execution_count": 30,
   "metadata": {},
   "outputs": [],
   "source": [
    "def count_calls(counter):\n",
    "    def decorator(func):\n",
    "        def wrapper(*args):\n",
    "            params = f\"{args}\"\n",
    "            counter[params] = 1 if params not in counter else counter[params]+1\n",
    "            return func(*args)\n",
    "        return wrapper\n",
    "    return decorator"
   ]
  },
  {
   "cell_type": "code",
   "execution_count": 3,
   "metadata": {},
   "outputs": [],
   "source": [
    "def get_total(counts):\n",
    "    total= 0\n",
    "    for key,value in counts.items():\n",
    "        total+=value\n",
    "    return total"
   ]
  },
  {
   "cell_type": "markdown",
   "metadata": {},
   "source": [
    "## Normal Search\n",
    "\n",
    "Just go through list till we reach the end."
   ]
  },
  {
   "cell_type": "code",
   "execution_count": 15,
   "metadata": {},
   "outputs": [],
   "source": [
    "def normal_search(L,e):\n",
    "    # pre definition\n",
    "    counter = {}\n",
    "    @count_calls(counter)\n",
    "    def ns(L,e,index):\n",
    "        # base case\n",
    "        if index == len(L):\n",
    "            return False\n",
    "        if L[index] == e:\n",
    "            return True\n",
    "        else:\n",
    "            return ns(L,e,index+1)\n",
    "    # main function\n",
    "    if len(L) == 0:\n",
    "        return false, counter\n",
    "    else:\n",
    "        return ns(L,e,0), counter"
   ]
  },
  {
   "cell_type": "markdown",
   "metadata": {},
   "source": [
    "## Bisect Search\n",
    "\n",
    "Find the middle of list and based on element is bigger or fewer throw out the half."
   ]
  },
  {
   "cell_type": "code",
   "execution_count": 31,
   "metadata": {},
   "outputs": [],
   "source": [
    "def bisect_search(L,e):\n",
    "    # pre difinition\n",
    "    counter = {}\n",
    "    @count_calls(counter)\n",
    "    def bs(L,e,low,high):\n",
    "        if low == high:\n",
    "            return L[low] == e\n",
    "        else:\n",
    "            mid = (low+high)//2\n",
    "            if L[mid] == e:\n",
    "                return True\n",
    "            elif L[mid] > e:\n",
    "                return bs(L,e,low,mid-1)\n",
    "            elif L[mid] < e:\n",
    "                return bs(L,e,mid+1,high)\n",
    "    # main func\n",
    "    if len(L) == 0:\n",
    "        return false\n",
    "    else:\n",
    "        return bs(L,e,0,len(L)-1), counter"
   ]
  },
  {
   "cell_type": "code",
   "execution_count": 62,
   "metadata": {},
   "outputs": [
    {
     "name": "stdout",
     "output_type": "stream",
     "text": [
      "done\n"
     ]
    }
   ],
   "source": [
    "test_num = 20\n",
    "ns_counts = {}\n",
    "bs_counts = {}\n",
    "t = []\n",
    "for i in range(test_num+1):\n",
    "    t.append(i)\n",
    "    r,ns_c = normal_search(t,i+1)\n",
    "    r,bs_c = bisect_search(t,i+1)\n",
    "    ns_t = get_total(ns_c)\n",
    "    bs_t = get_total(bs_c)\n",
    "    ns_counts[i] = ns_t\n",
    "    bs_counts[i] = bs_t\n",
    "print('done')"
   ]
  },
  {
   "cell_type": "markdown",
   "metadata": {},
   "source": [
    "## Growth\n",
    "\n",
    "**Normal Search** is **Linear**: **O(n)**  \n",
    "**Bisect Search** is **Logaritmic**: **O(log n)**"
   ]
  },
  {
   "cell_type": "code",
   "execution_count": 78,
   "metadata": {},
   "outputs": [
    {
     "data": {
      "image/png": "[encoded data removed]",
      "text/plain": [
       "<Figure size 720x504 with 1 Axes>"
      ]
     },
     "metadata": {
      "needs_background": "light"
     },
     "output_type": "display_data"
    }
   ],
   "source": [
    "plt.figure(figsize=(10, 7))\n",
    "\n",
    "values, calls = zip(*sorted(ns_counts.items()))\n",
    "values2, calls2 = zip(*sorted(bs_counts.items()))\n",
    "\n",
    "plt.plot(values, calls,'b-o',values2,calls2,'r-o')\n",
    "plt.legend(['Normal Search','Bisect Search'])\n",
    "plt.xlabel('List Length')\n",
    "plt.ylabel('Calls')\n",
    "plt.xticks(list(range(0,test_num+1,2)))\n",
    "plt.yticks(list(range(1,test_num+3,1)))\n",
    "\n",
    "plt.show()"
   ]
  }
 ],
 "metadata": {
  "kernelspec": {
   "display_name": "Python 3",
   "language": "python",
   "name": "python3"
  },
  "language_info": {
   "codemirror_mode": {
    "name": "ipython",
    "version": 3
   },
   "file_extension": ".py",
   "mimetype": "text/x-python",
   "name": "python",
   "nbconvert_exporter": "python",
   "pygments_lexer": "ipython3",
   "version": "3.6.8"
  }
 },
 "nbformat": 4,
 "nbformat_minor": 4
}
