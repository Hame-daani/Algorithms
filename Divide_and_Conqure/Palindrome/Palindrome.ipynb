{
 "cells": [
  {
   "cell_type": "markdown",
   "metadata": {},
   "source": [
    "# Palindrome"
   ]
  },
  {
   "cell_type": "code",
   "execution_count": 2,
   "metadata": {},
   "outputs": [],
   "source": [
    "import matplotlib.pyplot as plt"
   ]
  },
  {
   "cell_type": "code",
   "execution_count": 3,
   "metadata": {},
   "outputs": [],
   "source": [
    "def count_calls(counter):\n",
    "    def decorator(func):\n",
    "        def wrapper(x):\n",
    "            counter[x] = 1 if x not in counter else counter[x]+1\n",
    "            return func(x)\n",
    "        return wrapper\n",
    "    return decorator"
   ]
  },
  {
   "cell_type": "code",
   "execution_count": 4,
   "metadata": {},
   "outputs": [],
   "source": [
    "test_num = 10"
   ]
  },
  {
   "cell_type": "code",
   "execution_count": 5,
   "metadata": {},
   "outputs": [],
   "source": [
    "def get_total(counts):\n",
    "    total= 0\n",
    "    for key,value in counts.items():\n",
    "        total+=value\n",
    "    return total"
   ]
  },
  {
   "cell_type": "markdown",
   "metadata": {},
   "source": [
    "## Algorithm"
   ]
  },
  {
   "cell_type": "code",
   "execution_count": 6,
   "metadata": {},
   "outputs": [],
   "source": [
    "def isPalindrome(s):\n",
    "    \"\"\"\n",
    "    Recursive algorithm.\\n\n",
    "    T(n) = O(n)\n",
    "    \"\"\"\n",
    "    def toChars(s):\n",
    "        s = s.lower()\n",
    "        r = ''\n",
    "        for c in s:\n",
    "            if c in 'abcdefghijklmnopqrstuvwxyz':\n",
    "                r = r + c\n",
    "        return r\n",
    "    counter = {}\n",
    "    @count_calls(counter)\n",
    "    def isPal(s):\n",
    "        if len(s) <= 1:\n",
    "            return True\n",
    "        else:\n",
    "            return s[0] == s[-1] and isPal(s[1:-1])\n",
    "    # main func\n",
    "    return isPal(toChars(s)), counter"
   ]
  },
  {
   "cell_type": "markdown",
   "metadata": {},
   "source": [
    "## Growth\n",
    "\n",
    "\n",
    "**Time Complexity** is: **T(n) = n/2**  \n",
    "with **Growth** of **Linear**: **O(n)**"
   ]
  },
  {
   "cell_type": "code",
   "execution_count": 11,
   "metadata": {},
   "outputs": [
    {
     "name": "stdout",
     "output_type": "stream",
     "text": [
      "\n",
      "gg\n",
      "ylly\n",
      "ltuutl\n",
      "wkmccmkw\n",
      "kmkijjikmk\n",
      "elpzfnnfzple\n",
      "zntwtfooftwtnz\n",
      "vglyxdnllndxylgv\n",
      "imjsxzrphhprzxsjmi\n",
      "done\n"
     ]
    },
    {
     "data": {
      "image/png": "[encoded data removed]",
      "text/plain": [
       "<Figure size 432x288 with 1 Axes>"
      ]
     },
     "metadata": {
      "needs_background": "light"
     },
     "output_type": "display_data"
    }
   ],
   "source": [
    "import random\n",
    "growth = {}\n",
    "for i in range(1,test_num+1):\n",
    "    s = \"\"\n",
    "    alphabet = \"abcdefghijklmnopqrstuvwxyz\"\n",
    "    for j in range(1,i):\n",
    "        r = random.choice(alphabet)\n",
    "        s = r+s+r\n",
    "    print(s)\n",
    "    result,counts = isPalindrome(s)\n",
    "    t_i = get_total(counts)\n",
    "    growth[i*2] = t_i\n",
    "print('done')\n",
    "\n",
    "values, calls = zip(*sorted(growth.items()))\n",
    "plt.plot(values, calls,'bo-')\n",
    "plt.xlabel(\"n long String\")\n",
    "plt.ylabel('Calls')\n",
    "plt.xticks(list(range(0,test_num*2+1,2)))\n",
    "plt.title('Palindrome Growth')\n",
    "plt.show()"
   ]
  }
 ],
 "metadata": {
  "kernelspec": {
   "display_name": "Python 3",
   "language": "python",
   "name": "python3"
  },
  "language_info": {
   "codemirror_mode": {
    "name": "ipython",
    "version": 3
   },
   "file_extension": ".py",
   "mimetype": "text/x-python",
   "name": "python",
   "nbconvert_exporter": "python",
   "pygments_lexer": "ipython3",
   "version": "3.6.8"
  }
 },
 "nbformat": 4,
 "nbformat_minor": 4
}
