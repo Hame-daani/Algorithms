{
 "cells": [
  {
   "cell_type": "code",
   "execution_count": null,
   "metadata": {},
   "outputs": [],
   "source": [
    "# Palindrome"
   ]
  },
  {
   "cell_type": "code",
   "execution_count": 16,
   "metadata": {},
   "outputs": [],
   "source": [
    "import matplotlib.pyplot as plt"
   ]
  },
  {
   "cell_type": "code",
   "execution_count": 1,
   "metadata": {},
   "outputs": [],
   "source": [
    "def count_calls(counter):\n",
    "    def decorator(func):\n",
    "        def wrapper(x):\n",
    "            counter[x] = 1 if x not in counter else counter[x]+1\n",
    "            return func(x)\n",
    "        return wrapper\n",
    "    return decorator"
   ]
  },
  {
   "cell_type": "code",
   "execution_count": 8,
   "metadata": {},
   "outputs": [],
   "source": [
    "def get_total(counts):\n",
    "    total= 0\n",
    "    for key,value in counts.items():\n",
    "        total+=value\n",
    "    return total"
   ]
  },
  {
   "cell_type": "code",
   "execution_count": 3,
   "metadata": {},
   "outputs": [],
   "source": [
    "def isPalindrome(s):\n",
    "    \"\"\"\n",
    "    Recursive algorithm.\\n\n",
    "    T(n) = O(n)\n",
    "    \"\"\"\n",
    "    def toChars(s):\n",
    "        s = s.lower()\n",
    "        r = ''\n",
    "        for c in s:\n",
    "            if c in 'abcdefghijklmnopqrstuvwxyz':\n",
    "                r = r + c\n",
    "        return r\n",
    "    counter = {}\n",
    "    @count_calls(counter)\n",
    "    def isPal(s):\n",
    "        if len(s) <= 1:\n",
    "            return True\n",
    "        else:\n",
    "            return s[0] == s[-1] and isPal(s[1:-1])\n",
    "    # main func\n",
    "    return isPal(toChars(s)), counter"
   ]
  },
  {
   "cell_type": "code",
   "execution_count": 13,
   "metadata": {},
   "outputs": [
    {
     "name": "stdout",
     "output_type": "stream",
     "text": [
      "\n",
      "xx\n",
      "ueeu\n",
      "ydccdy\n",
      "yciuuicy\n",
      "gwxmvvmxwg\n",
      "mpvjfccfjvpm\n",
      "nfztreggertzfn\n",
      "bnxaujsaasjuaxnb\n",
      "edulufkqttqkfulude\n",
      "done\n"
     ]
    }
   ],
   "source": [
    "import random\n",
    "growth = {}\n",
    "for i in range(1,11):\n",
    "    s = \"\"\n",
    "    alphabet = \"abcdefghijklmnopqrstuvwxyz\"\n",
    "    for j in range(1,i):\n",
    "        r = random.choice(alphabet)\n",
    "        s = r+s+r\n",
    "    print(s)\n",
    "    result,counts = isPalindrome(s)\n",
    "    t_i = get_total(counts)\n",
    "    growth[i*2] = t_i\n",
    "print('done')"
   ]
  },
  {
   "cell_type": "markdown",
   "metadata": {},
   "source": [
    "**Time Complexity** is: **T(n) = n/2**  \n",
    "with **Growth** of **Linear**: **O(n)**"
   ]
  },
  {
   "cell_type": "code",
   "execution_count": 20,
   "metadata": {},
   "outputs": [
    {
     "data": {
      "image/png": "[encoded data removed]",
      "text/plain": [
       "<Figure size 432x288 with 1 Axes>"
      ]
     },
     "metadata": {
      "needs_background": "light"
     },
     "output_type": "display_data"
    }
   ],
   "source": [
    "values, calls = zip(*sorted(growth.items()))\n",
    "plt.plot(values, calls,'bo-')\n",
    "plt.xlabel(\"n long String\")\n",
    "plt.ylabel('Calls')\n",
    "plt.xticks(list(range(0,21,2)))\n",
    "plt.yticks(list(range(0,11,1)))\n",
    "plt.title('Palindrome Growth')\n",
    "plt.show()"
   ]
  }
 ],
 "metadata": {
  "kernelspec": {
   "display_name": "Python 3",
   "language": "python",
   "name": "python3"
  },
  "language_info": {
   "codemirror_mode": {
    "name": "ipython",
    "version": 3
   },
   "file_extension": ".py",
   "mimetype": "text/x-python",
   "name": "python",
   "nbconvert_exporter": "python",
   "pygments_lexer": "ipython3",
   "version": "3.6.8"
  }
 },
 "nbformat": 4,
 "nbformat_minor": 4
}
