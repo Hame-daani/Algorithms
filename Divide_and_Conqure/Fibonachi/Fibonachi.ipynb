{
 "cells": [
  {
   "cell_type": "markdown",
   "metadata": {},
   "source": [
    "# Fibonachi"
   ]
  },
  {
   "cell_type": "markdown",
   "metadata": {},
   "source": [
    "Import **matplotlib** library for visualazing."
   ]
  },
  {
   "cell_type": "code",
   "execution_count": 1,
   "metadata": {},
   "outputs": [],
   "source": [
    "import matplotlib.pyplot as plt"
   ]
  },
  {
   "cell_type": "markdown",
   "metadata": {},
   "source": [
    "Define a **decorator** to **count function calls**. \n",
    "\n",
    "It count how many times function with certain value will be called when calcuting for example 10th Fibonachi."
   ]
  },
  {
   "cell_type": "code",
   "execution_count": 171,
   "metadata": {},
   "outputs": [],
   "source": [
    "def count_calls(counter):\n",
    "    def decorator(func):\n",
    "        def wrapper(x):\n",
    "            counter[x] = 1 if x not in counter else counter[x]+1\n",
    "            return func(x)\n",
    "        return wrapper\n",
    "    return decorator"
   ]
  },
  {
   "cell_type": "markdown",
   "metadata": {},
   "source": [
    "## Recursive Algorithm"
   ]
  },
  {
   "cell_type": "markdown",
   "metadata": {},
   "source": [
    "Recursive algorithm with no optimization."
   ]
  },
  {
   "cell_type": "code",
   "execution_count": 175,
   "metadata": {},
   "outputs": [],
   "source": [
    "def Recursive_fib(x):\n",
    "    counter = {}\n",
    "    @count_calls(counter)\n",
    "    def fib_recur(x):\n",
    "        if x == 0 or x == 1:\n",
    "            return 1\n",
    "        else:\n",
    "            return fib_recur(x-1) + fib_recur(x-2)\n",
    "    return fib_recur(x),counter"
   ]
  },
  {
   "cell_type": "markdown",
   "metadata": {},
   "source": [
    "The value of **10th Fibonachi** with this algorithm is:"
   ]
  },
  {
   "cell_type": "code",
   "execution_count": 259,
   "metadata": {},
   "outputs": [
    {
     "name": "stdout",
     "output_type": "stream",
     "text": [
      "The value is: 89\n"
     ]
    }
   ],
   "source": [
    "x,recur_count_10 = Recursive_fib(10)\n",
    "print(\"The value is:\",x)"
   ]
  },
  {
   "cell_type": "markdown",
   "metadata": {},
   "source": [
    "### Number of calls\n",
    "\n",
    "when calcuting 10th fibonachi.\n"
   ]
  },
  {
   "cell_type": "code",
   "execution_count": 301,
   "metadata": {},
   "outputs": [
    {
     "data": {
      "image/png": "[encoded data removed]",
      "text/plain": [
       "<Figure size 432x288 with 1 Axes>"
      ]
     },
     "metadata": {
      "needs_background": "light"
     },
     "output_type": "display_data"
    }
   ],
   "source": [
    "values, calls = zip(*sorted(recur_count_10.items()))\n",
    "plt.plot(values, calls,'bo-')\n",
    "plt.xlabel('Values')\n",
    "plt.ylabel('Calls')\n",
    "plt.title('Recursive Function Calls')\n",
    "plt.xticks(list(range(0,11,1)))\n",
    "plt.show()"
   ]
  },
  {
   "cell_type": "markdown",
   "metadata": {},
   "source": [
    "## Memoizing Algorithm"
   ]
  },
  {
   "cell_type": "markdown",
   "metadata": {},
   "source": [
    "Recursive algorithm using a cache dictionary to memoising the results and speed up."
   ]
  },
  {
   "cell_type": "code",
   "execution_count": 179,
   "metadata": {},
   "outputs": [],
   "source": [
    "def Memoizing_fib(x):\n",
    "    counter = {}\n",
    "    cache = {}\n",
    "    @count_calls(counter)\n",
    "    def fib_memo(x):\n",
    "        if x in cache:\n",
    "            return cache[x]\n",
    "        else:\n",
    "            if x == 0 or x == 1:\n",
    "                cache[x] = 1\n",
    "                return cache[x]\n",
    "            else:\n",
    "                cache[x] = fib_memo(x-1) + fib_memo(x-2)\n",
    "                return cache[x]\n",
    "    return fib_memo(x),counter"
   ]
  },
  {
   "cell_type": "markdown",
   "metadata": {},
   "source": [
    "The value of 10th Fibonachi with this algorithm is:"
   ]
  },
  {
   "cell_type": "code",
   "execution_count": 257,
   "metadata": {},
   "outputs": [
    {
     "name": "stdout",
     "output_type": "stream",
     "text": [
      "The value is: 89\n"
     ]
    }
   ],
   "source": [
    "x, memo_count_10 = Memoizing_fib(10)\n",
    "print(\"The value is:\",x)"
   ]
  },
  {
   "cell_type": "markdown",
   "metadata": {},
   "source": [
    "### Number of calls\n",
    "\n",
    "when calcuting 10th fibonachi.\n"
   ]
  },
  {
   "cell_type": "code",
   "execution_count": 302,
   "metadata": {},
   "outputs": [
    {
     "data": {
      "image/png": "[encoded data removed]",
      "text/plain": [
       "<Figure size 432x288 with 1 Axes>"
      ]
     },
     "metadata": {
      "needs_background": "light"
     },
     "output_type": "display_data"
    }
   ],
   "source": [
    "values, calls = zip(*sorted(memo_count_10.items()))\n",
    "plt.plot(values, calls,'bo-')\n",
    "plt.xlabel('Values')\n",
    "plt.ylabel('Calls')\n",
    "plt.title('Memoizing Function Calls')\n",
    "plt.xticks(list(range(0,11,1)))\n",
    "plt.yticks([0,1,2,3])\n",
    "plt.show()"
   ]
  },
  {
   "cell_type": "markdown",
   "metadata": {},
   "source": [
    "## Comparing Two Algorithm"
   ]
  },
  {
   "cell_type": "markdown",
   "metadata": {},
   "source": [
    "Defining a function to calcute total function call."
   ]
  },
  {
   "cell_type": "code",
   "execution_count": 198,
   "metadata": {},
   "outputs": [],
   "source": [
    "def get_total(counts):\n",
    "    total= 0\n",
    "    for key,value in counts.items():\n",
    "        total+=value\n",
    "    return total"
   ]
  },
  {
   "cell_type": "markdown",
   "metadata": {},
   "source": [
    "Calcute total call for 10th fibonachi number in both algorithm."
   ]
  },
  {
   "cell_type": "code",
   "execution_count": 283,
   "metadata": {},
   "outputs": [],
   "source": [
    "total_recur_10 = get_total(recur_count_10)\n",
    "total_memo_10 = get_total(memo_count_10)"
   ]
  },
  {
   "cell_type": "markdown",
   "metadata": {},
   "source": [
    "### Number of total calls side by side\n",
    "\n",
    "For Recursive it's **177**.\n",
    "and For memoization it's **19**."
   ]
  },
  {
   "cell_type": "code",
   "execution_count": 303,
   "metadata": {},
   "outputs": [
    {
     "data": {
      "image/png": "[encoded data removed]",
      "text/plain": [
       "<Figure size 1080x216 with 1 Axes>"
      ]
     },
     "metadata": {
      "needs_background": "light"
     },
     "output_type": "display_data"
    }
   ],
   "source": [
    "plt.figure(figsize=(15, 3))\n",
    "plt.xticks(list(range(0,190,10)))\n",
    "plt.barh(['Recursive','Memoizing'],[total_recur_10,total_memo_10])\n",
    "plt.title('Comparing Function Calls')\n",
    "plt.show()"
   ]
  },
  {
   "cell_type": "markdown",
   "metadata": {},
   "source": [
    "### Growth of Algorithms"
   ]
  },
  {
   "cell_type": "markdown",
   "metadata": {},
   "source": [
    "Calcute total number of calls for calcuting first to 10th fibonachi with both algorithms."
   ]
  },
  {
   "cell_type": "code",
   "execution_count": 268,
   "metadata": {},
   "outputs": [
    {
     "name": "stdout",
     "output_type": "stream",
     "text": [
      "done\n"
     ]
    }
   ],
   "source": [
    "growth_recur = {}\n",
    "for i in range(1,11):\n",
    "    x,recur_count = Recursive_fib(i)\n",
    "    t_i = get_total(recur_count)\n",
    "    growth_recur[i] = t_i\n",
    "print('done')"
   ]
  },
  {
   "cell_type": "code",
   "execution_count": 284,
   "metadata": {},
   "outputs": [
    {
     "name": "stdout",
     "output_type": "stream",
     "text": [
      "done\n"
     ]
    }
   ],
   "source": [
    "growth_memo = {}\n",
    "for i in range(1,11):\n",
    "    x,memo_count = Memoizing_fib(i)\n",
    "    t_i = get_total(memo_count)\n",
    "    growth_memo[i] = t_i\n",
    "print('done')"
   ]
  },
  {
   "cell_type": "markdown",
   "metadata": {},
   "source": [
    "Visualazing Growth of both Algorithm Side by Side.  \n",
    "Growth of **Recursive** is: **O(2^n)**  \n",
    "Growth of **Memoizing** is: **O(2n)**"
   ]
  },
  {
   "cell_type": "code",
   "execution_count": 300,
   "metadata": {},
   "outputs": [
    {
     "data": {
      "image/png": "[encoded data removed]",
      "text/plain": [
       "<Figure size 1080x360 with 2 Axes>"
      ]
     },
     "metadata": {
      "needs_background": "light"
     },
     "output_type": "display_data"
    }
   ],
   "source": [
    "plt.figure(figsize=(15, 5))\n",
    "\n",
    "plt.subplot(121)\n",
    "values, calls = zip(*sorted(growth_recur.items()))\n",
    "plt.plot(values, calls,'bo-')\n",
    "plt.xlabel(\"nth Fibonachi\")\n",
    "plt.ylabel('Calls')\n",
    "plt.xticks(list(range(0,11,1)))\n",
    "plt.title('Recursive Growth')\n",
    "\n",
    "plt.subplot(122)\n",
    "values, calls = zip(*sorted(growth_memo.items()))\n",
    "plt.plot(values, calls,'bo-')\n",
    "plt.xlabel(\"nth Fibonachi\")\n",
    "plt.ylabel('Calls')\n",
    "plt.xticks(list(range(0,11,1)))\n",
    "plt.yticks(list(range(0,21,2)))\n",
    "plt.title('Memoization Growth')\n",
    "\n",
    "plt.show()"
   ]
  }
 ],
 "metadata": {
  "kernelspec": {
   "display_name": "Python 3",
   "language": "python",
   "name": "python3"
  },
  "language_info": {
   "codemirror_mode": {
    "name": "ipython",
    "version": 3
   },
   "file_extension": ".py",
   "mimetype": "text/x-python",
   "name": "python",
   "nbconvert_exporter": "python",
   "pygments_lexer": "ipython3",
   "version": "3.6.8"
  }
 },
 "nbformat": 4,
 "nbformat_minor": 4
}
