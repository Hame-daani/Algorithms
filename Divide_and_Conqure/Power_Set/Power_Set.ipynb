{
 "cells": [
  {
   "cell_type": "code",
   "execution_count": 1,
   "metadata": {},
   "outputs": [],
   "source": [
    "import matplotlib.pyplot as plt"
   ]
  },
  {
   "cell_type": "code",
   "execution_count": 2,
   "metadata": {},
   "outputs": [],
   "source": [
    "def count_calls(counter):\n",
    "    def decorator(func):\n",
    "        def wrapper(*args):\n",
    "            params = f\"{args}\"\n",
    "            counter[params] = 1 if params not in counter else counter[params]+1\n",
    "            return func(*args)\n",
    "        return wrapper\n",
    "    return decorator"
   ]
  },
  {
   "cell_type": "code",
   "execution_count": 3,
   "metadata": {},
   "outputs": [],
   "source": [
    "def get_total(counts):\n",
    "    total= 0\n",
    "    for key,value in counts.items():\n",
    "        total+=value\n",
    "    return total"
   ]
  },
  {
   "cell_type": "markdown",
   "metadata": {},
   "source": [
    "## Algorithm"
   ]
  },
  {
   "cell_type": "code",
   "execution_count": 16,
   "metadata": {},
   "outputs": [],
   "source": [
    "def genSubsets(L):\n",
    "    counter = {}\n",
    "    @count_calls(counter)\n",
    "    def gs(L):\n",
    "        if len(L) == 0:\n",
    "            return [[]] # list of empty list\n",
    "        smaller = gs(L[:-1])\n",
    "        extra = L[-1:]\n",
    "        new = []\n",
    "        for small in smaller:\n",
    "            counter[f\"({L},)\"]+=1\n",
    "            new.append(small+extra)\n",
    "        return smaller+new\n",
    "    # main func\n",
    "    return gs(L), counter"
   ]
  },
  {
   "cell_type": "code",
   "execution_count": 32,
   "metadata": {},
   "outputs": [
    {
     "name": "stdout",
     "output_type": "stream",
     "text": [
      "done\n"
     ]
    }
   ],
   "source": [
    "test_num = 10\n",
    "alg_counts = {}\n",
    "L = []\n",
    "for i in range(1,test_num+1):\n",
    "    L.append(i)\n",
    "    r,counts = genSubsets(L)\n",
    "    alg_counts[i] = get_total(counts)\n",
    "print('done')"
   ]
  },
  {
   "cell_type": "markdown",
   "metadata": {},
   "source": [
    "## Growth\n",
    "\n",
    "Growth is **Exponantial** : **O(2^n)**"
   ]
  },
  {
   "cell_type": "code",
   "execution_count": 38,
   "metadata": {},
   "outputs": [
    {
     "data": {
      "image/png": "[encoded data removed]",
      "text/plain": [
       "<Figure size 432x288 with 1 Axes>"
      ]
     },
     "metadata": {
      "needs_background": "light"
     },
     "output_type": "display_data"
    }
   ],
   "source": [
    "values, calls = zip(*sorted(alg_counts.items()))\n",
    "plt.plot(values,calls,'bo-')\n",
    "plt.xlabel('List Length')\n",
    "plt.ylabel(\"Calls\")\n",
    "plt.xticks(list(range(1,test_num+1,1)))\n",
    "\n",
    "plt.show()"
   ]
  }
 ],
 "metadata": {
  "kernelspec": {
   "display_name": "Python 3",
   "language": "python",
   "name": "python3"
  },
  "language_info": {
   "codemirror_mode": {
    "name": "ipython",
    "version": 3
   },
   "file_extension": ".py",
   "mimetype": "text/x-python",
   "name": "python",
   "nbconvert_exporter": "python",
   "pygments_lexer": "ipython3",
   "version": "3.6.8"
  }
 },
 "nbformat": 4,
 "nbformat_minor": 4
}
