{
 "cells": [
  {
   "cell_type": "markdown",
   "metadata": {},
   "source": [
    "## Hanoi Towers\n",
    "\n",
    "import **matplotlib** module for visualzing purpose."
   ]
  },
  {
   "cell_type": "code",
   "execution_count": 49,
   "metadata": {},
   "outputs": [],
   "source": [
    "import matplotlib.pyplot as plt"
   ]
  },
  {
   "cell_type": "markdown",
   "metadata": {},
   "source": [
    "Define a **decorator** to count nomber of calls."
   ]
  },
  {
   "cell_type": "code",
   "execution_count": 28,
   "metadata": {},
   "outputs": [],
   "source": [
    "def count_calls(counter):\n",
    "    def decorator(func):\n",
    "        def wrapper(n, fr, to, help):\n",
    "            params = f\"{n}, {fr}, {to}, {help}\"\n",
    "            counter[params] = 1 if params not in counter else counter[params]+1\n",
    "            return func(n, fr, to, help)\n",
    "        return wrapper\n",
    "    return decorator"
   ]
  },
  {
   "cell_type": "markdown",
   "metadata": {},
   "source": [
    "Define a function to calcute total nomber of calls"
   ]
  },
  {
   "cell_type": "code",
   "execution_count": 32,
   "metadata": {},
   "outputs": [],
   "source": [
    "def get_total(counts):\n",
    "    total= 0\n",
    "    for key,value in counts.items():\n",
    "        total+=value\n",
    "    return total"
   ]
  },
  {
   "cell_type": "markdown",
   "metadata": {},
   "source": [
    "### Algorithm"
   ]
  },
  {
   "cell_type": "code",
   "execution_count": 41,
   "metadata": {},
   "outputs": [],
   "source": [
    "def Towers(n, fr, to, help):\n",
    "    counter = {}\n",
    "    @count_calls(counter)\n",
    "    def towers_recur(n, fr, to, help):\n",
    "        result = \"\"\n",
    "        def printMove(fr, to):\n",
    "            \"\"\"\n",
    "            Simple function to print needed move.\n",
    "            \"\"\"\n",
    "            return \"move \" + str(fr) + ' to ' + str(to)+\"\\n\"\n",
    "        # main function\n",
    "        if n == 1:\n",
    "            result = result + printMove(fr, to)\n",
    "            return result\n",
    "        else:\n",
    "            result = result + towers_recur(n-1, fr=fr, to=help, help=to)\n",
    "            result = result + towers_recur(1, fr=fr, to=to, help=help)\n",
    "            result = result + towers_recur(n-1, fr=help, to=to, help=fr)\n",
    "            return result\n",
    "    result = towers_recur(n, fr, to, help)\n",
    "    return result,counter"
   ]
  },
  {
   "cell_type": "markdown",
   "metadata": {},
   "source": [
    "### Growth\n",
    "\n",
    "calcute nomber of calls for 1 to 10 tower."
   ]
  },
  {
   "cell_type": "code",
   "execution_count": 45,
   "metadata": {},
   "outputs": [
    {
     "name": "stdout",
     "output_type": "stream",
     "text": [
      "done\n"
     ]
    }
   ],
   "source": [
    "growth = {}\n",
    "for i in range(1,11):\n",
    "    r,counts = Towers(i, 'A', 'B', 'C')\n",
    "    t_i = get_total(counts)\n",
    "    growth[i] = t_i\n",
    "print('done')"
   ]
  },
  {
   "cell_type": "markdown",
   "metadata": {},
   "source": [
    "Growth of Algorithm is: **O(2^n)**"
   ]
  },
  {
   "cell_type": "code",
   "execution_count": 51,
   "metadata": {},
   "outputs": [
    {
     "data": {
      "image/png": "[encoded data removed]",
      "text/plain": [
       "<Figure size 432x288 with 1 Axes>"
      ]
     },
     "metadata": {
      "needs_background": "light"
     },
     "output_type": "display_data"
    }
   ],
   "source": [
    "values, calls = zip(*sorted(growth.items()))\n",
    "plt.plot(values, calls,'bo-')\n",
    "plt.xlabel(\"nth Tower\")\n",
    "plt.ylabel('Calls')\n",
    "plt.xticks(list(range(0,11,1)))\n",
    "plt.title('Hanoi Tower Growth')\n",
    "plt.show()"
   ]
  }
 ],
 "metadata": {
  "kernelspec": {
   "display_name": "Python 3",
   "language": "python",
   "name": "python3"
  },
  "language_info": {
   "codemirror_mode": {
    "name": "ipython",
    "version": 3
   },
   "file_extension": ".py",
   "mimetype": "text/x-python",
   "name": "python",
   "nbconvert_exporter": "python",
   "pygments_lexer": "ipython3",
   "version": "3.6.8"
  }
 },
 "nbformat": 4,
 "nbformat_minor": 4
}
